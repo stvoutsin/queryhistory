{
 "cells": [
  {
   "cell_type": "markdown",
   "id": "7a704c71-eae2-42a1-adb6-9a95c4694053",
   "metadata": {
    "execution": {
     "iopub.execute_input": "2024-08-23T18:22:27.210088Z",
     "iopub.status.busy": "2024-08-23T18:22:27.209841Z",
     "iopub.status.idle": "2024-08-23T18:22:40.433069Z",
     "shell.execute_reply": "2024-08-23T18:22:40.432482Z",
     "shell.execute_reply.started": "2024-08-23T18:22:27.210070Z"
    }
   },
   "source": [
    "# TAP Query History using python client"
   ]
  },
  {
   "cell_type": "markdown",
   "id": "d5cfe1f1-48d6-420c-af41-df3456b84dbf",
   "metadata": {
    "execution": {
     "iopub.execute_input": "2024-08-23T20:16:24.837947Z",
     "iopub.status.busy": "2024-08-23T20:16:24.837378Z",
     "iopub.status.idle": "2024-08-23T20:16:24.842169Z",
     "shell.execute_reply": "2024-08-23T20:16:24.841436Z",
     "shell.execute_reply.started": "2024-08-23T20:16:24.837925Z"
    }
   },
   "source": [
    "<p>Examples that use the proof-of-concept QueryHistory class to interact with the UWS jobs endpoint of a TAP service</p>\n",
    "<p>Include fetching recent queries, and filtering by various params like phase, time & query text</p>\n",
    "<p>Proof-of-concept source code can be found at <a href=\"https://github.com/stvoutsin/queryhistory\">https://github.com/stvoutsin/queryhistory</a></p>\n"
   ]
  },
  {
   "cell_type": "markdown",
   "id": "16e67637-1f41-4a65-ae8e-da1b6293a7b1",
   "metadata": {
    "execution": {
     "iopub.execute_input": "2024-08-23T18:24:43.961629Z",
     "iopub.status.busy": "2024-08-23T18:24:43.960967Z",
     "iopub.status.idle": "2024-08-23T18:24:43.964534Z",
     "shell.execute_reply": "2024-08-23T18:24:43.963856Z",
     "shell.execute_reply.started": "2024-08-23T18:24:43.961600Z"
    }
   },
   "source": [
    "### Install queryhistory package"
   ]
  },
  {
   "cell_type": "code",
   "execution_count": null,
   "id": "e0cd9a7b-1921-4f67-9177-7f408aaa97b6",
   "metadata": {},
   "outputs": [],
   "source": [
    "pip install --user git+https://github.com/stvoutsin/queryhistory.git"
   ]
  },
  {
   "cell_type": "markdown",
   "id": "c31b4792-bc83-4825-8e52-a9e9f75b5952",
   "metadata": {
    "execution": {
     "iopub.execute_input": "2024-08-23T18:41:07.102434Z",
     "iopub.status.busy": "2024-08-23T18:41:07.102116Z",
     "iopub.status.idle": "2024-08-23T18:41:07.105275Z",
     "shell.execute_reply": "2024-08-23T18:41:07.104693Z",
     "shell.execute_reply.started": "2024-08-23T18:41:07.102409Z"
    }
   },
   "source": [
    "### Import QueryHistory and helper libraries"
   ]
  },
  {
   "cell_type": "code",
   "execution_count": null,
   "id": "a10bf607-5399-4b49-818c-63e3913d10ec",
   "metadata": {},
   "outputs": [],
   "source": [
    "import requests\n",
    "from contextlib import suppress\n",
    "from datetime import datetime\n",
    "import pandas as pd\n",
    "import pyvo"
   ]
  },
  {
   "cell_type": "code",
   "execution_count": null,
   "id": "049643e4-06f9-431b-a605-a0fb646a3425",
   "metadata": {},
   "outputs": [],
   "source": [
    "from queryhistory import QueryHistory"
   ]
  },
  {
   "cell_type": "markdown",
   "id": "8131a938-0ac4-4e1a-ae7b-ff15df1d236d",
   "metadata": {},
   "source": [
    "### Set TOKEN info & TAP jobs BASE_URL"
   ]
  },
  {
   "cell_type": "code",
   "execution_count": null,
   "id": "48b4aff1-4a61-4018-854f-22082aa0a777",
   "metadata": {},
   "outputs": [],
   "source": [
    "TOKEN = \"\"\n",
    "TAP_URL = \"https://data.lsst.cloud/api/tap\"\n",
    "JOB_URL = TAP_URL + \"/async\""
   ]
  },
  {
   "cell_type": "markdown",
   "id": "aaeadd75-c87a-4ea9-a2f1-eb812bcec6df",
   "metadata": {},
   "source": [
    "### Initialize QueryHistory class"
   ]
  },
  {
   "cell_type": "code",
   "execution_count": null,
   "id": "a8e19ecf-3c32-45f4-977b-2782e6460ee2",
   "metadata": {},
   "outputs": [],
   "source": [
    "query_history_service = QueryHistory(base_url=JOB_URL, token=TOKEN)"
   ]
  },
  {
   "cell_type": "markdown",
   "id": "ab76c53e-9493-40bd-a696-ea1d67dd309e",
   "metadata": {},
   "source": [
    "### Get up to 5 queries that have phase=COMPLETED"
   ]
  },
  {
   "cell_type": "markdown",
   "id": "a4cee6fa-998d-451a-baed-834166931505",
   "metadata": {},
   "source": [
    "Note that the Query objects that are returned contain all params available in the UWS job for that query. The string representation is limited for the purpose of readability"
   ]
  },
  {
   "cell_type": "code",
   "execution_count": null,
   "id": "f1da35c8-681d-4a69-baef-a1748e072e3a",
   "metadata": {},
   "outputs": [],
   "source": [
    "queries = query_history_service.get_queries(limit=5, phase=\"COMPLETED\")\n",
    "pd.DataFrame(queries)"
   ]
  },
  {
   "cell_type": "markdown",
   "id": "71ad569b-8f75-41dc-995a-3117fc22ab56",
   "metadata": {},
   "source": [
    "### Get my 5 most recent queries"
   ]
  },
  {
   "cell_type": "code",
   "execution_count": null,
   "id": "b630c3c3-68ef-4504-b329-0f4663a2c45c",
   "metadata": {},
   "outputs": [],
   "source": [
    "queries = query_history_service.get_queries(last=5)\n",
    "pd.DataFrame(queries)"
   ]
  },
  {
   "cell_type": "markdown",
   "id": "937d859f-6f50-46af-90da-11c4994f28e8",
   "metadata": {},
   "source": [
    "### Get last 3 queries after August 20th 2024"
   ]
  },
  {
   "cell_type": "code",
   "execution_count": null,
   "id": "022adb64-4fa9-4802-800a-a5b90dd2e174",
   "metadata": {},
   "outputs": [],
   "source": [
    "queries = query_history_service.get_queries(after=datetime(2024, 8, 20), last=3)\n",
    "pd.DataFrame(queries)"
   ]
  },
  {
   "cell_type": "markdown",
   "id": "6b94eebb-378f-4ee6-a9f4-880da33108a0",
   "metadata": {},
   "source": [
    "### Get queries that match this text: \"SELECT TOP 10 * FROM ivoa.ObsCore\" (limit=5, order by recency)"
   ]
  },
  {
   "cell_type": "code",
   "execution_count": null,
   "id": "40c972db-8efa-453f-b51e-ed99183fb9b2",
   "metadata": {},
   "outputs": [],
   "source": [
    "filters = [\n",
    "    lambda q: q.query_text == \"SELECT TOP 10 * FROM ivoa.ObsCore\",\n",
    "]\n",
    "queries = query_history_service.get_queries(limit=5, recent=True, filters=filters)\n",
    "pd.DataFrame(queries)"
   ]
  },
  {
   "cell_type": "markdown",
   "id": "3a562823-3b3a-4899-ab94-94c2468fb739",
   "metadata": {},
   "source": [
    "### Run an ASYNC pyvo query"
   ]
  },
  {
   "cell_type": "markdown",
   "id": "633e33fe-602f-486e-9277-7002c8fa65f1",
   "metadata": {},
   "source": [
    "<p>We submit a query here to check that it appears in the query history</p>\n",
    "<p>Because pyvo deletes the query after running it when using async, for the query to appear in the list it a trick here is to use a query that produces an error, as these do not get deleted</p>\n"
   ]
  },
  {
   "cell_type": "code",
   "execution_count": null,
   "id": "80d1a3b4-be13-477b-b1de-25e7978b3eb6",
   "metadata": {},
   "outputs": [],
   "source": [
    "query = \"SELECT TOP 1 INVALID from TAP_SCHEMA.schemas\"\n",
    "# Setup authorization\n",
    "s = requests.Session()\n",
    "s.headers[\"Authorization\"] = \"Bearer \" + TOKEN\n",
    "auth = pyvo.auth.authsession.AuthSession()\n",
    "auth.credentials.set(\"lsst-token\", s)\n",
    "auth.add_security_method_for_url(TAP_URL, \"lsst-token\")\n",
    "auth.add_security_method_for_url(TAP_URL + \"/async\", \"lsst-token\")\n",
    "tap_service = pyvo.dal.TAPService(baseurl=TAP_URL, session=auth)\n",
    "with suppress(pyvo.dal.DALQueryError):\n",
    "    tap_service.run_async(query)\n"
   ]
  },
  {
   "cell_type": "markdown",
   "id": "bc39dce4-7542-430b-bd29-826f44344389",
   "metadata": {},
   "source": [
    "### Assert that it is the most recent query in our history"
   ]
  },
  {
   "cell_type": "code",
   "execution_count": null,
   "id": "8af5715b-41ed-41fb-a137-24660dc44911",
   "metadata": {},
   "outputs": [],
   "source": [
    "assert query_history_service.get_queries(last=1)[-1].query_text == query"
   ]
  },
  {
   "cell_type": "markdown",
   "id": "014653dc-183b-4e8a-971a-2a3300b2bf49",
   "metadata": {},
   "source": [
    "### Find any PENDING Jobs, if found start the first one"
   ]
  },
  {
   "cell_type": "code",
   "execution_count": null,
   "id": "4b6b8d89-e37e-41bb-890e-eabd4f596833",
   "metadata": {},
   "outputs": [],
   "source": [
    "pending_queries = query_history_service.get_queries(phase=\"PENDING\")\n",
    "query_count = len(pending_queries)\n",
    "pd.DataFrame(pending_queries)"
   ]
  },
  {
   "cell_type": "code",
   "execution_count": null,
   "id": "f1fc2dbc-6692-4a59-910f-4f60d8a40dca",
   "metadata": {},
   "outputs": [],
   "source": [
    "if len(pending_queries) > 0:\n",
    "    first_job = pending_queries[0]\n",
    "    query_history_service.run_query(pending_queries[0].job_id) "
   ]
  },
  {
   "cell_type": "markdown",
   "id": "48aaf736-26f0-444f-949c-a11282d74ffd",
   "metadata": {},
   "source": [
    "### Assert that we now have less PENDING jobs"
   ]
  },
  {
   "cell_type": "code",
   "execution_count": null,
   "id": "583fe3ee-a873-4e83-addb-d4a058119054",
   "metadata": {},
   "outputs": [],
   "source": [
    "if len(pending_queries) > 0:\n",
    "    assert query_count > len(query_history_service.get_queries(phase=\"PENDING\"))"
   ]
  },
  {
   "cell_type": "code",
   "execution_count": null,
   "id": "ab951d03-1f37-4667-ab88-ed24e6f09368",
   "metadata": {},
   "outputs": [],
   "source": []
  }
 ],
 "metadata": {
  "kernelspec": {
   "display_name": "LSST",
   "language": "python",
   "name": "lsst"
  },
  "language_info": {
   "codemirror_mode": {
    "name": "ipython",
    "version": 3
   },
   "file_extension": ".py",
   "mimetype": "text/x-python",
   "name": "python",
   "nbconvert_exporter": "python",
   "pygments_lexer": "ipython3",
   "version": "3.11.7"
  }
 },
 "nbformat": 4,
 "nbformat_minor": 5
}
